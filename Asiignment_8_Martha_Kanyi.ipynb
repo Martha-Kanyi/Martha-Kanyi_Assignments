{
  "nbformat": 4,
  "nbformat_minor": 0,
  "metadata": {
    "colab": {
      "provenance": []
    },
    "kernelspec": {
      "name": "python3",
      "display_name": "Python 3"
    },
    "language_info": {
      "name": "python"
    }
  },
  "cells": [
    {
      "cell_type": "code",
      "execution_count": null,
      "metadata": {
        "id": "u9JF6yTmNhfQ"
      },
      "outputs": [],
      "source": [
        "#  Part 1: Text Cleaning\n",
        "# Load a sample document or paragraph from the dataset."
      ]
    },
    {
      "cell_type": "code",
      "source": [
        "# Part 1 - Text Cleaning\n",
        "import re\n",
        "import pandas as pd"
      ],
      "metadata": {
        "id": "yEuF198sN-hq"
      },
      "execution_count": 1,
      "outputs": []
    },
    {
      "cell_type": "code",
      "source": [
        "# Load dataset\n",
        "df = pd.read_csv('/content/1429_1.csv')\n",
        "text = df['reviews.text'].dropna().iloc[0]"
      ],
      "metadata": {
        "colab": {
          "base_uri": "https://localhost:8080/"
        },
        "id": "kPNWTGm8OIiN",
        "outputId": "075e2694-bc89-4818-bbe8-df85b3ce7de0"
      },
      "execution_count": 2,
      "outputs": [
        {
          "output_type": "stream",
          "name": "stderr",
          "text": [
            "/tmp/ipython-input-3654660810.py:2: DtypeWarning: Columns (1,10) have mixed types. Specify dtype option on import or set low_memory=False.\n",
            "  df = pd.read_csv('/content/1429_1.csv')\n"
          ]
        }
      ]
    },
    {
      "cell_type": "code",
      "source": [
        "# We perform basic text cleaning:\n",
        "\n",
        "def clean_text(text):\n",
        "    text = text.lower()               # Convert to lowercase\n",
        "    text = re.sub(r'\\d+', '', text)   # Remove digits\n",
        "    text = re.sub(r'[^\\w\\s]', '', text) # Remove punctuations\n",
        "    text = re.sub(r'\\s+', ' ', text).strip() # Remove extra whitespace\n",
        "    return text\n",
        "\n",
        "cleaned_text = clean_text(text)\n",
        "cleaned_text"
      ],
      "metadata": {
        "colab": {
          "base_uri": "https://localhost:8080/",
          "height": 53
        },
        "id": "SNwbt9wNOY2j",
        "outputId": "0b28cd35-876e-4fcb-bc18-b0d193804ed0"
      },
      "execution_count": 5,
      "outputs": [
        {
          "output_type": "execute_result",
          "data": {
            "text/plain": [
              "'this product so far has not disappointed my children love to use it and i like the ability to monitor control what content they see with ease'"
            ],
            "application/vnd.google.colaboratory.intrinsic+json": {
              "type": "string"
            }
          },
          "metadata": {},
          "execution_count": 5
        }
      ]
    },
    {
      "cell_type": "code",
      "source": [
        "# Part 2: Tokenization\n",
        "# Tokenize the cleaned text into:\n",
        "# 1.Sentences\n",
        "# 2.Word\n",
        "\n",
        "import nltk\n",
        "from nltk.tokenize import sent_tokenize, word_tokenize\n",
        "\n",
        "nltk.download('punkt_tab')\n",
        "\n"
      ],
      "metadata": {
        "colab": {
          "base_uri": "https://localhost:8080/"
        },
        "id": "gMDC72VeQA4y",
        "outputId": "067e61bd-2a65-4556-e5c9-17e82dd3b515"
      },
      "execution_count": 8,
      "outputs": [
        {
          "output_type": "stream",
          "name": "stderr",
          "text": [
            "[nltk_data] Downloading package punkt_tab to /root/nltk_data...\n",
            "[nltk_data]   Unzipping tokenizers/punkt_tab.zip.\n"
          ]
        },
        {
          "output_type": "execute_result",
          "data": {
            "text/plain": [
              "True"
            ]
          },
          "metadata": {},
          "execution_count": 8
        }
      ]
    },
    {
      "cell_type": "code",
      "source": [
        "# Sentence tokenization\n",
        "sentences = sent_tokenize(cleaned_text)\n",
        "\n",
        "sentences, words\n"
      ],
      "metadata": {
        "colab": {
          "base_uri": "https://localhost:8080/"
        },
        "id": "AGAgV8i3RELI",
        "outputId": "f77f58cb-491f-484e-f1f9-83dc84f41598"
      },
      "execution_count": 13,
      "outputs": [
        {
          "output_type": "execute_result",
          "data": {
            "text/plain": [
              "(['this product so far has not disappointed my children love to use it and i like the ability to monitor control what content they see with ease'],\n",
              " ['this',\n",
              "  'product',\n",
              "  'so',\n",
              "  'far',\n",
              "  'has',\n",
              "  'not',\n",
              "  'disappointed',\n",
              "  'my',\n",
              "  'children',\n",
              "  'love',\n",
              "  'to',\n",
              "  'use',\n",
              "  'it',\n",
              "  'and',\n",
              "  'i',\n",
              "  'like',\n",
              "  'the',\n",
              "  'ability',\n",
              "  'to',\n",
              "  'monitor',\n",
              "  'control',\n",
              "  'what',\n",
              "  'content',\n",
              "  'they',\n",
              "  'see',\n",
              "  'with',\n",
              "  'ease'])"
            ]
          },
          "metadata": {},
          "execution_count": 13
        }
      ]
    },
    {
      "cell_type": "code",
      "source": [
        "# Word tokenization\n",
        "words = word_tokenize(cleaned_text)\n",
        "\n",
        "sentences, words"
      ],
      "metadata": {
        "colab": {
          "base_uri": "https://localhost:8080/"
        },
        "id": "PZqDpcz_UP46",
        "outputId": "1caa3d7d-0553-4cbf-ed0f-1b0c692a165b"
      },
      "execution_count": 14,
      "outputs": [
        {
          "output_type": "execute_result",
          "data": {
            "text/plain": [
              "(['this product so far has not disappointed my children love to use it and i like the ability to monitor control what content they see with ease'],\n",
              " ['this',\n",
              "  'product',\n",
              "  'so',\n",
              "  'far',\n",
              "  'has',\n",
              "  'not',\n",
              "  'disappointed',\n",
              "  'my',\n",
              "  'children',\n",
              "  'love',\n",
              "  'to',\n",
              "  'use',\n",
              "  'it',\n",
              "  'and',\n",
              "  'i',\n",
              "  'like',\n",
              "  'the',\n",
              "  'ability',\n",
              "  'to',\n",
              "  'monitor',\n",
              "  'control',\n",
              "  'what',\n",
              "  'content',\n",
              "  'they',\n",
              "  'see',\n",
              "  'with',\n",
              "  'ease'])"
            ]
          },
          "metadata": {},
          "execution_count": 14
        }
      ]
    },
    {
      "cell_type": "code",
      "source": [
        "# Part 3: Stopword Removal\n",
        "# Remove common stopwords from the word tokens.\n",
        "\n",
        "# Compare results before and after removing stopwords. Comment on changes in word count and vocabulary.\n",
        "\n",
        "from nltk.corpus import stopwords\n",
        "nltk.download('stopwords')\n",
        "\n",
        "stop_words = set(stopwords.words('english'))"
      ],
      "metadata": {
        "colab": {
          "base_uri": "https://localhost:8080/"
        },
        "id": "hXdkkzewUZvP",
        "outputId": "7c0f5833-f85e-4151-fb56-76941ce7916a"
      },
      "execution_count": 15,
      "outputs": [
        {
          "output_type": "stream",
          "name": "stderr",
          "text": [
            "[nltk_data] Downloading package stopwords to /root/nltk_data...\n",
            "[nltk_data]   Unzipping corpora/stopwords.zip.\n"
          ]
        }
      ]
    },
    {
      "cell_type": "code",
      "source": [
        "# Removing stopwords\n",
        "filtered_words = [word for word in words if word not in stop_words]\n",
        "\n",
        "\n",
        "before_count = len(words)\n",
        "after_count = len(filtered_words)\n",
        "unique_before = len(set(words))\n",
        "unique_after = len(set(filtered_words))\n",
        "\n",
        "{\n",
        "    \"Before Removal\": {\"Word Count\": before_count, \"Unique Words\": unique_before},\n",
        "    \"After Removal\": {\"Word Count\": after_count, \"Unique Words\": unique_after},\n",
        "    \"Filtered Words\": filtered_words\n",
        "}"
      ],
      "metadata": {
        "colab": {
          "base_uri": "https://localhost:8080/"
        },
        "id": "IrV8sLpHUzP2",
        "outputId": "93f24db3-2b8c-488d-9980-9219640724aa"
      },
      "execution_count": 17,
      "outputs": [
        {
          "output_type": "execute_result",
          "data": {
            "text/plain": [
              "{'Before Removal': {'Word Count': 27, 'Unique Words': 26},\n",
              " 'After Removal': {'Word Count': 13, 'Unique Words': 13},\n",
              " 'Filtered Words': ['product',\n",
              "  'far',\n",
              "  'disappointed',\n",
              "  'children',\n",
              "  'love',\n",
              "  'use',\n",
              "  'like',\n",
              "  'ability',\n",
              "  'monitor',\n",
              "  'control',\n",
              "  'content',\n",
              "  'see',\n",
              "  'ease']}"
            ]
          },
          "metadata": {},
          "execution_count": 17
        }
      ]
    },
    {
      "cell_type": "code",
      "source": [
        "# Part 4: Stemming and Lemmatization\n",
        "# Apply both stemming (Porter or Snowball) and lemmatization.\n",
        "\n",
        "# Compare the output of each technique on 10 selected words.\n",
        "\n",
        "# Discuss scenarios where lemmatization is preferred over stemming.\n",
        "\n",
        "from nltk.stem import PorterStemmer\n",
        "import spacy\n",
        "\n",
        "stemmer = PorterStemmer()\n",
        "nlp = spacy.load('en_core_web_sm')"
      ],
      "metadata": {
        "id": "dZZ8fjatVQ8L"
      },
      "execution_count": 18,
      "outputs": []
    },
    {
      "cell_type": "code",
      "source": [
        "# Lets sample words from the cleaned text\n",
        "sample_words = filtered_words[:10]\n",
        "\n",
        "# Lets apply stemming and lemmatization\n",
        "stemmed = [stemmer.stem(w) for w in sample_words]\n",
        "lemmatized = [token.lemma_ for token in nlp(\" \".join(sample_words))]\n",
        "\n",
        "list(zip(sample_words, stemmed, lemmatized))"
      ],
      "metadata": {
        "colab": {
          "base_uri": "https://localhost:8080/"
        },
        "id": "0NMdE3pMVnot",
        "outputId": "7492cbc3-3f0d-4ee1-dc7b-1f0bc7a9b4a1"
      },
      "execution_count": 21,
      "outputs": [
        {
          "output_type": "execute_result",
          "data": {
            "text/plain": [
              "[('product', 'product', 'product'),\n",
              " ('far', 'far', 'far'),\n",
              " ('disappointed', 'disappoint', 'disappointed'),\n",
              " ('children', 'children', 'child'),\n",
              " ('love', 'love', 'love'),\n",
              " ('use', 'use', 'use'),\n",
              " ('like', 'like', 'like'),\n",
              " ('ability', 'abil', 'ability'),\n",
              " ('monitor', 'monitor', 'monitor'),\n",
              " ('control', 'control', 'control')]"
            ]
          },
          "metadata": {},
          "execution_count": 21
        }
      ]
    },
    {
      "cell_type": "markdown",
      "source": [
        "Discuss scenarios where lemmatization is preferred over stemming.\n",
        "\n",
        "Lemmatization and stemming both reduce words to their base forms, but lemmatization is more accurate and context-aware, producing real dictionary words based on meaning and grammar. In contrast, stemming is faster but often imprecise, chopping off word endings without considering context. Lemmatization is preferred for tasks that require proper grammar and meaning, for example chatbots and translation.\n"
      ],
      "metadata": {
        "id": "iDvCJQuUn8KU"
      }
    },
    {
      "cell_type": "code",
      "source": [
        "# Part 5: POS Tagging\n",
        "\n",
        "from nltk import pos_tag\n",
        "nltk.download('averaged_perceptron_tagger')\n",
        "nltk.download('tagsets')\n",
        "from collections import Counter\n",
        "import matplotlib.pyplot as plt\n",
        "\n",
        "\n",
        "\n"
      ],
      "metadata": {
        "colab": {
          "base_uri": "https://localhost:8080/"
        },
        "id": "YLPgpub8osyb",
        "outputId": "86a1d85b-83be-4506-a969-535b4103f9af"
      },
      "execution_count": 35,
      "outputs": [
        {
          "output_type": "stream",
          "name": "stderr",
          "text": [
            "[nltk_data] Downloading package averaged_perceptron_tagger to\n",
            "[nltk_data]     /root/nltk_data...\n",
            "[nltk_data]   Package averaged_perceptron_tagger is already up-to-\n",
            "[nltk_data]       date!\n",
            "[nltk_data] Downloading package tagsets to /root/nltk_data...\n",
            "[nltk_data]   Unzipping help/tagsets.zip.\n"
          ]
        }
      ]
    },
    {
      "cell_type": "code",
      "source": [
        "from nltk import pos_tag\n",
        "\n",
        "pos_tags = pos_tag(filtered_words)\n"
      ],
      "metadata": {
        "id": "eHgJUZzR6PRG"
      },
      "execution_count": 37,
      "outputs": []
    },
    {
      "cell_type": "code",
      "source": [
        "# Count the frequency of each POS tag (e.g., NN, VB, JJ).\n",
        "\n",
        "pos_counts = Counter(tag for word, tag in pos_tags)"
      ],
      "metadata": {
        "id": "3wW-w6je6LgO"
      },
      "execution_count": 38,
      "outputs": []
    },
    {
      "cell_type": "code",
      "source": [
        "# Visualize it using a bar plot.\n",
        "\n",
        "plt.figure(figsize=(10, 5))\n",
        "plt.bar(pos_counts.keys(), pos_counts.values())\n",
        "plt.title(\"POS Tag Frequency\")\n",
        "plt.xlabel(\"POS Tags\")\n",
        "plt.ylabel(\"Count\")\n",
        "plt.xticks(rotation=45)\n",
        "plt.show()"
      ],
      "metadata": {
        "colab": {
          "base_uri": "https://localhost:8080/",
          "height": 504
        },
        "id": "IMnOWMLZ7TfX",
        "outputId": "d3308820-a4d5-4ac1-eae3-aec98fba7cbf"
      },
      "execution_count": 39,
      "outputs": [
        {
          "output_type": "display_data",
          "data": {
            "text/plain": [
              "<Figure size 1000x500 with 1 Axes>"
            ],
            "image/png": "[encoded data removed]"
          },
          "metadata": {}
        }
      ]
    },
    {
      "cell_type": "code",
      "source": [
        "# Part 6: Named Entity Recognition (NER)\n",
        "# Extract named entities using spaCy or Hugging Face.\n",
        "\n",
        "from spacy import displacy\n",
        "\n",
        "doc = nlp(text)\n",
        "\n",
        "entities = [(ent.text, ent.label_) for ent in doc.ents]"
      ],
      "metadata": {
        "id": "4UewO09N7i6l"
      },
      "execution_count": 40,
      "outputs": []
    },
    {
      "cell_type": "code",
      "source": [
        "# Visualize entities using displacy or any plotting library.\n",
        "\n",
        "displacy.render(doc, style='ent', jupyter=True)\n"
      ],
      "metadata": {
        "colab": {
          "base_uri": "https://localhost:8080/",
          "height": 52
        },
        "id": "Vr006xIo7w3n",
        "outputId": "97e71845-de9b-49c9-acfb-1eb3b407dd44"
      },
      "execution_count": 43,
      "outputs": [
        {
          "output_type": "display_data",
          "data": {
            "text/plain": [
              "<IPython.core.display.HTML object>"
            ],
            "text/html": [
              "<span class=\"tex2jax_ignore\"><div class=\"entities\" style=\"line-height: 2.5; direction: ltr\">This product so far has not disappointed. My children love to use it and I like the ability to monitor control what content they see with ease.</div></span>"
            ]
          },
          "metadata": {}
        }
      ]
    }
  ]
}