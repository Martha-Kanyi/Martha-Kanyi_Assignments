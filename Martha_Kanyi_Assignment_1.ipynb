{
  "nbformat": 4,
  "nbformat_minor": 0,
  "metadata": {
    "colab": {
      "provenance": []
    },
    "kernelspec": {
      "name": "python3",
      "display_name": "Python 3"
    },
    "language_info": {
      "name": "python"
    }
  },
  "cells": [
    {
      "cell_type": "code",
      "execution_count": 13,
      "metadata": {
        "id": "4voDDLyS30Hk"
      },
      "outputs": [],
      "source": [
        "# Python Basics Assignment 1\n",
        "# Section 1: Numerical Data Types & Arithmetic Operators (20 marks)\n",
        "# Question 1: The Road Planner\n",
        "# The key details to us in calculations\n",
        "\n",
        "fuel_efficiency = 11.5  # kilometres per litre\n",
        "total_distance = 475    # Kilometres\n",
        "fuel_price = 1.65       # dollars per litre\n",
        "tank_capacity = 50      # Litres\n",
        "\n",
        "# in this question we start with a full tank\n",
        "# we have inserted the values to the variables"
      ]
    },
    {
      "cell_type": "code",
      "source": [
        "# a. How many litres of fuel will you need for the entire trip?\n",
        "\n",
        "total_distance = 475\n",
        "fuel_efficiency = 11.5\n",
        "\n",
        "fuel_needed = total_distance / fuel_efficiency\n",
        "print(fuel_needed)\n",
        "\n",
        "#to calculate fuel needed, I divided the total distance (475km) of the trip by the car's fuel efficiency (11.5) i.e. kilometres per litre\n"
      ],
      "metadata": {
        "colab": {
          "base_uri": "https://localhost:8080/"
        },
        "id": "nHuNC7Yk8Whw",
        "outputId": "120a8e86-424c-4d0a-f4fb-9e832068bfd5"
      },
      "execution_count": 14,
      "outputs": [
        {
          "output_type": "stream",
          "name": "stdout",
          "text": [
            "41.30434782608695\n"
          ]
        }
      ]
    },
    {
      "cell_type": "code",
      "source": [
        "# b. How many full tanks of fuel does this represent? (Use an operator that gives you the whole number of tanks). (5 marks)\n",
        "\n",
        "fuel_needed = 41.30434782608695\n",
        "tank_capacity = 50\n",
        "\n",
        "full_tanks = int(fuel_needed // tank_capacity)\n",
        "print(full_tanks)\n",
        "\n",
        "# Explanation: I used the floor division operator (//) to find the whole number of full tanks required for this trip.\n",
        "# The floor division rounds the result to the nearest whole number.\n",
        "# Since the fuel needed (41.30 litres) is less than the full tank( 50 litres), the car will need less than 1 full tank.\n",
        "# Full tank will be enough and we will not need to refill it.\n",
        "# I used int() to convert the result of the division to a whole number, because the number of full tanks must be a whole number as require in the question"
      ],
      "metadata": {
        "colab": {
          "base_uri": "https://localhost:8080/"
        },
        "id": "p3mJTaKG_LLi",
        "outputId": "6a04581f-9ced-4259-8d6c-6a6d7969d040"
      },
      "execution_count": 15,
      "outputs": [
        {
          "output_type": "stream",
          "name": "stdout",
          "text": [
            "0\n"
          ]
        }
      ]
    },
    {
      "cell_type": "code",
      "source": [
        "# c. What is the total estimated fuel cost for the trip (based on the fuel needed)? (5 marks)\n",
        "\n",
        "fuel_price = 1.65  #derived from part a\n",
        "fuel_needed = 41.30434782608695  #dollars per litre\n",
        "\n",
        "total_cost = fuel_needed * fuel_price\n",
        "print(total_cost)\n",
        "\n",
        "# Explanation: To calculate the total fuel cost, I multiplied the total amount of fuel needed for the trip (calculated in part a) by the price of fuel per liter.\n",
        "# 41.30434782608695 * 1.65"
      ],
      "metadata": {
        "colab": {
          "base_uri": "https://localhost:8080/"
        },
        "id": "7Ao6Td4qDibm",
        "outputId": "6e7be88c-eb63-487a-b056-d79508d64353"
      },
      "execution_count": 16,
      "outputs": [
        {
          "output_type": "stream",
          "name": "stdout",
          "text": [
            "68.15217391304347\n"
          ]
        }
      ]
    },
    {
      "cell_type": "code",
      "source": [
        "# d. After completing the trip, how many liters of fuel will be remaining in your tank if you started full and only refueled the exact amount needed? (Hint: Think about the fuel used from the last full tank). (5 marks)\n",
        "\n",
        "fuel_needed = 41.30434782608695\n",
        "tank_capacity = 50\n",
        "\n",
        "remaining_fuel = tank_capacity - fuel_needed\n",
        "print(remaining_fuel)\n",
        "\n",
        "# Output - Remaining fuel in the tank: 8.695652173913047 liters\n",
        "# We started with a full tank (50 liters) and  we used about 41.30 liters\n",
        "# The remaining fuel will be 50 - 41.30434782608695 = 8.695652173913047 liters left in the tank."
      ],
      "metadata": {
        "colab": {
          "base_uri": "https://localhost:8080/"
        },
        "id": "FtcnjvUXFeI1",
        "outputId": "b3196a8a-9c96-494f-d2db-94892b5f566a"
      },
      "execution_count": 17,
      "outputs": [
        {
          "output_type": "stream",
          "name": "stdout",
          "text": [
            "8.695652173913047\n"
          ]
        }
      ]
    },
    {
      "cell_type": "code",
      "source": [
        "# Section 2: Comparison & Logical Operators (20 Marks)\n",
        "# Question 2: Theme Park Entry Rules\n",
        "# A theme park has a special discount rule. A person gets a discount if they meet ONE of the following criteria:\n",
        "# They are a child (age 12 or younger) AND it is a weekday.\n",
        "# They are a senior (age 65 or older) REGARDLESS of the day.\n",
        "# It is a special \"Family Day\" AND they are part of a group of 4 or more.\n",
        "\n",
        "\n",
        "# Python variables\n",
        "age = 30\n",
        "is_weekday = True\n",
        "is_family_day = False\n",
        "group_size = 3"
      ],
      "metadata": {
        "id": "zqV0tuv8H6OH"
      },
      "execution_count": 18,
      "outputs": []
    },
    {
      "cell_type": "code",
      "source": [
        "# a. Write a single, comprehensive Python boolean expression that evaluates to True if a person with the current variable values qualifies for a discount, and False otherwise. Show the expression and its result. (10 marks)\n",
        "# Boolean expression for discount eligibility\n",
        "\n",
        "discount = (age <= 12 and is_weekday) or (age >= 65) or (is_family_day and group_size >= 4)\n",
        "print(discount)\n",
        "\n",
        "# None of the above conditions have been met, not a child, not a senior, and it is not family Day with large group\n",
        "# I have used the operator (or) to combine the three above conditions.\n",
        "# Child on a weekday? → age(30) is more than 12 and is_weekday (true) therefore the whole statement combined is false.\n",
        "# Senior? → age (30) is less than 65 therefore the statment is false\n",
        "# Family Day + group ≥ 4? is False.\n",
        "\n"
      ],
      "metadata": {
        "colab": {
          "base_uri": "https://localhost:8080/"
        },
        "id": "k7HhHk6PJgUV",
        "outputId": "aa49cefe-cd50-465c-b795-554b18889474"
      },
      "execution_count": 19,
      "outputs": [
        {
          "output_type": "stream",
          "name": "stdout",
          "text": [
            "False\n"
          ]
        }
      ]
    },
    {
      "cell_type": "code",
      "source": [
        "# b. Now, change the variables to:\n",
        "age = 10\n",
        "is_weekday = True\n",
        "family_day = False\n",
        "group_size = 2\n",
        "# Evaluate your boolean expression from part (a) with these new values. Show the result. (5 marks)\n",
        "\n",
        "discount = (age <= 12 and is_weekday) or (age >= 65) or (family_day and group_size >= 4)\n",
        "print(discount)\n",
        "\n",
        "# The person does qualify for a discount\n",
        "# The person is a child (age = 10) and it is a weekday (weekday = True)"
      ],
      "metadata": {
        "colab": {
          "base_uri": "https://localhost:8080/"
        },
        "id": "5F5QQBTAQ98E",
        "outputId": "53464dbf-1aad-488d-a45f-a7159866e677"
      },
      "execution_count": 20,
      "outputs": [
        {
          "output_type": "stream",
          "name": "stdout",
          "text": [
            "True\n"
          ]
        }
      ]
    },
    {
      "cell_type": "code",
      "source": [
        "# c. For the scenario in part (b), explain step-by-step how Python evaluates your boolean expression. Describe the result of each comparison and how the and/or operators combine these results to reach the final answer. (5 marks)\n",
        "# step by step evaluation\n",
        "# 1.(age <= 12) - the person is 10 therefore this evaluates to True because 10 is less than or equal to 12.\n",
        "# 2.(age <= 12 and is_weekday) - in this case  it is a weekday This also meets the child discount condition.The result of this operation is true\n",
        "# 3.(age >= 65) - the person's age in this case age 10, this evaluates to False because 10 is not greater than or equal to 65.\n",
        "# 4. (is_family_day and group_size >= 4): With is_family_day = False, the first part of the and is False. Regardless of the value of (group_size >= 4), the result of this and operation will be False because False and anything is always False.\n",
        "# 5. Is it Family Day with a group of 4 or more? In this case, it is not family day and the group is only 2 people, so this condition is False\n",
        "# 6. I combined all the conditions using (or) operator.\n",
        "# the first condition is True (child on a weekday).\n",
        "# the second or third condition are False\n",
        "# If any part of an or expression is True, the final result is True."
      ],
      "metadata": {
        "id": "0S2ikSi7S84D"
      },
      "execution_count": 21,
      "outputs": []
    },
    {
      "cell_type": "code",
      "source": [
        "# Section 3: String Data Types, Indexing & Slicing (25 Marks)\n",
        "# Question 3: Message Decoder\n",
        "# You are given the following secret message encoded in a Python string:\n",
        "# secret_message = \"PyThoN_Is_FuN_AnD_PoWeRfUl!\"\n"
      ],
      "metadata": {
        "id": "Iic65yAgzTrt"
      },
      "execution_count": 22,
      "outputs": []
    },
    {
      "cell_type": "code",
      "source": [
        "# a. What is the character at index 5 of secret_message? (3 marks)\n",
        "\n",
        "secret_message = \"PyThoN_Is_FuN_AnD_PoWeRfUl!\"\n",
        "print(secret_message[5])\n",
        "\n",
        "# In python String indexing starts from 0, therefore the character at index 5 is always 6th character in the string.\n",
        "# So index 0 is \"P\", 1 is \"y\", 2 is \"T\", 3 is \"h\", 4 is \"o\", and index 5 is \"N\""
      ],
      "metadata": {
        "colab": {
          "base_uri": "https://localhost:8080/"
        },
        "id": "qZj19hl4zno9",
        "outputId": "25ba2f50-c0d1-4a60-c74c-bd77db49efe4"
      },
      "execution_count": 23,
      "outputs": [
        {
          "output_type": "stream",
          "name": "stdout",
          "text": [
            "N\n"
          ]
        }
      ]
    },
    {
      "cell_type": "code",
      "source": [
        "# b. Using positive indexing and slicing, extract the substring \"Is_FuN\". (5 marks)\n",
        "\n",
        "secret_message[7:13]\n",
        "\n",
        "# It starts at index 7 and stops before index 13. The characters from index 7 to 12."
      ],
      "metadata": {
        "colab": {
          "base_uri": "https://localhost:8080/",
          "height": 35
        },
        "id": "CY_EHeEXIK1k",
        "outputId": "3bbb68d3-cfa2-4bdc-a0e5-a0676a18773d"
      },
      "execution_count": 24,
      "outputs": [
        {
          "output_type": "execute_result",
          "data": {
            "text/plain": [
              "'Is_FuN'"
            ],
            "application/vnd.google.colaboratory.intrinsic+json": {
              "type": "string"
            }
          },
          "metadata": {},
          "execution_count": 24
        }
      ]
    },
    {
      "cell_type": "code",
      "source": [
        "# c. Using negative indexing and slicing, extract the substring \"PoWeRfUl\". (5 marks)\n",
        "\n",
        "print(secret_message[-9:-1])\n",
        "\n",
        "# Negative indexes count from the end of the string - -1 is \"!\", -2 is \"l\", -3 is \"U\"\n",
        "# secret_message[-9:-1] starts at \"P\" and stops before \"!\""
      ],
      "metadata": {
        "colab": {
          "base_uri": "https://localhost:8080/"
        },
        "id": "2T6PICABJ_lG",
        "outputId": "ccd4c1d1-197c-4c18-e30f-2bad97033b07"
      },
      "execution_count": 25,
      "outputs": [
        {
          "output_type": "stream",
          "name": "stdout",
          "text": [
            "PoWeRfUl\n"
          ]
        }
      ]
    },
    {
      "cell_type": "code",
      "source": [
        "# d. Create a new string that consists of every 4th character of secret_message, starting from the first character (index 0). (For example, if the string was \"ABCDEFGHI\", the result would be \"AEI\"). Show the slicing expression you used and the resulting string. (7 marks)\n",
        "\n",
        "print(secret_message[0::4])\n",
        "\n",
        "# 0 = Start at index 0 (the first character of the string).\n",
        "# : = No end limit is set, so it goes to the end of the string.\n",
        "# 4 = Step size of 4, which means it takes every 4th character."
      ],
      "metadata": {
        "colab": {
          "base_uri": "https://localhost:8080/"
        },
        "id": "CXjl9AcDLbhY",
        "outputId": "722e0741-3763-4e60-e8cf-d0d6858fedde"
      },
      "execution_count": 26,
      "outputs": [
        {
          "output_type": "stream",
          "name": "stdout",
          "text": [
            "PosNDWU\n"
          ]
        }
      ]
    },
    {
      "cell_type": "code",
      "source": [
        "# e. If you try to access secret_message[50], what happens? Explain this result in your own words, referring to the concept of string length. (5 marks)\n",
        "\n",
        "print(secret_message[50])\n",
        "\n",
        "# The above string \"PyThoN_Is_FuN_AnD_PoWeRfUl!\" has 25 characters (from index 0 to 24), therefore to access index 50 will go beyond the string's length\n",
        "# Python will bring an error because you are asking for a character that is not there\n"
      ],
      "metadata": {
        "colab": {
          "base_uri": "https://localhost:8080/",
          "height": 250
        },
        "id": "xvR5uoCwNHaS",
        "outputId": "6043e155-e67c-476e-f3ff-001b27da5851"
      },
      "execution_count": 27,
      "outputs": [
        {
          "output_type": "error",
          "ename": "IndexError",
          "evalue": "string index out of range",
          "traceback": [
            "\u001b[0;31m---------------------------------------------------------------------------\u001b[0m",
            "\u001b[0;31mIndexError\u001b[0m                                Traceback (most recent call last)",
            "\u001b[0;32m<ipython-input-27-90e069b7bfa8>\u001b[0m in \u001b[0;36m<cell line: 0>\u001b[0;34m()\u001b[0m\n\u001b[1;32m      1\u001b[0m \u001b[0;31m# e. If you try to access secret_message[50], what happens? Explain this result in your own words, referring to the concept of string length. (5 marks)\u001b[0m\u001b[0;34m\u001b[0m\u001b[0;34m\u001b[0m\u001b[0m\n\u001b[1;32m      2\u001b[0m \u001b[0;34m\u001b[0m\u001b[0m\n\u001b[0;32m----> 3\u001b[0;31m \u001b[0mprint\u001b[0m\u001b[0;34m(\u001b[0m\u001b[0msecret_message\u001b[0m\u001b[0;34m[\u001b[0m\u001b[0;36m50\u001b[0m\u001b[0;34m]\u001b[0m\u001b[0;34m)\u001b[0m\u001b[0;34m\u001b[0m\u001b[0;34m\u001b[0m\u001b[0m\n\u001b[0m\u001b[1;32m      4\u001b[0m \u001b[0;34m\u001b[0m\u001b[0m\n\u001b[1;32m      5\u001b[0m \u001b[0;31m# The above string \"PyThoN_Is_FuN_AnD_PoWeRfUl!\" has 25 characters (from index 0 to 24), therefore to access index 50 will go beyond the string's length\u001b[0m\u001b[0;34m\u001b[0m\u001b[0;34m\u001b[0m\u001b[0m\n",
            "\u001b[0;31mIndexError\u001b[0m: string index out of range"
          ]
        }
      ]
    },
    {
      "cell_type": "code",
      "source": [
        "# Section 4: Boolean Values & Expressions (15 Marks)\n",
        "# Question 4: Predict and Verify\n",
        "\n",
        "#Consider the following Python variable assignments:\n",
        "x = 15\n",
        "y = 25\n",
        "z = 15\n",
        "text = \"adventure\"\n",
        "\n"
      ],
      "metadata": {
        "id": "Vbrm-ILjOmza"
      },
      "execution_count": 28,
      "outputs": []
    },
    {
      "cell_type": "code",
      "source": [
        "#For each boolean expression below:\n",
        "# i. Predict whether the expression will evaluate to True or False before running it.\n",
        "# ii. Write down the Python expression.\n",
        "# iii. State the actual result Python gives."
      ],
      "metadata": {
        "id": "4HWMIPUeuWGO"
      },
      "execution_count": 29,
      "outputs": []
    },
    {
      "cell_type": "code",
      "source": [
        "#a. (x == z) and (y > x)\n",
        "\n",
        "# My prediction was True.\n",
        "# (x == z) is True because 15 is equal to 15.\n",
        "# (y > x) is True because 25 is greater than 15.\n",
        "# actual python result - True\n",
        "\n",
        "(x == z) and (y > x)"
      ],
      "metadata": {
        "colab": {
          "base_uri": "https://localhost:8080/"
        },
        "id": "zhx5Hz6KO06A",
        "outputId": "2812ffa5-e3fb-483a-e459-12371171e740"
      },
      "execution_count": 31,
      "outputs": [
        {
          "output_type": "execute_result",
          "data": {
            "text/plain": [
              "True"
            ]
          },
          "metadata": {},
          "execution_count": 31
        }
      ]
    },
    {
      "cell_type": "code",
      "source": [
        "# b. (x != z) or (y < x) or (len(text) < 5)\n",
        "\n",
        "# The prediction is false because none of the parts are true\n",
        "# the statement x != z is false as x=15 is equal to z=15\n",
        "# (y < x) is False because 25 is not less than 15.\n",
        "# Is len(text) < 5? the length of the text (adventure) is 9 which is more than 5 so this is False\n",
        "# actual python result - False\n",
        "\n",
        "(x != z) or (y < x) or (len(text) < 5)"
      ],
      "metadata": {
        "colab": {
          "base_uri": "https://localhost:8080/"
        },
        "id": "IKyI-W7zQEgF",
        "outputId": "faa22705-6221-42e2-9a5e-aadeec191129"
      },
      "execution_count": 32,
      "outputs": [
        {
          "output_type": "execute_result",
          "data": {
            "text/plain": [
              "False"
            ]
          },
          "metadata": {},
          "execution_count": 32
        }
      ]
    },
    {
      "cell_type": "code",
      "source": [
        "# c. not ((x > y) and (text == \"Adventure\")) (Note the case difference in \"Adventure\") (5 marks)\n",
        "\n",
        "# My prediction will be True - because both the conditions inside the brackets are false, so NOT False is True\n",
        "\n",
        "not ((x > y) and (text == \"Adventure\"))\n",
        "\n",
        "# in the First part, is x > y? 15 > 25 is False\n",
        "# in the next, is text == \"Adventure\"? the variable text = \"adventure\"(all is lowercase)\n",
        "# \"adventure\" == \"Adventure\" is False because the boolean expression has a capital A at the beginning\n",
        "# actual python result - True"
      ],
      "metadata": {
        "colab": {
          "base_uri": "https://localhost:8080/"
        },
        "id": "QxI43Jy4r6ie",
        "outputId": "aba02717-c1f1-47b4-cacf-f0fcf9684cc9"
      },
      "execution_count": 33,
      "outputs": [
        {
          "output_type": "execute_result",
          "data": {
            "text/plain": [
              "True"
            ]
          },
          "metadata": {},
          "execution_count": 33
        }
      ]
    },
    {
      "cell_type": "code",
      "source": [
        "# Section 5: String Properties & Basic Methods (20 Marks)\n",
        "# Question 5: User Profile Setup\n",
        "# You are working on a simple user profile system\n"
      ],
      "metadata": {
        "id": "YZdk1IWJ0Fod"
      },
      "execution_count": 34,
      "outputs": []
    },
    {
      "cell_type": "code",
      "source": [
        "# a. A user tries to set their username: username = \"MyUser123\".\n",
        "# change the first letter to lowercase directly: username[0] = 'm'\n",
        "\n",
        "username = \"MyUser123\"\n",
        "username[0] = 'm'\n",
        "\n",
        "# Output - error\n",
        "# strings are immutable - this means that you can't change individual characters directly."
      ],
      "metadata": {
        "colab": {
          "base_uri": "https://localhost:8080/",
          "height": 215
        },
        "id": "dxwJcA_n0a8t",
        "outputId": "eb02658c-ebb0-4cd1-fcd8-cca0fb1eb384"
      },
      "execution_count": 35,
      "outputs": [
        {
          "output_type": "error",
          "ename": "TypeError",
          "evalue": "'str' object does not support item assignment",
          "traceback": [
            "\u001b[0;31m---------------------------------------------------------------------------\u001b[0m",
            "\u001b[0;31mTypeError\u001b[0m                                 Traceback (most recent call last)",
            "\u001b[0;32m<ipython-input-35-e5b18f6c5dc0>\u001b[0m in \u001b[0;36m<cell line: 0>\u001b[0;34m()\u001b[0m\n\u001b[1;32m      3\u001b[0m \u001b[0;34m\u001b[0m\u001b[0m\n\u001b[1;32m      4\u001b[0m \u001b[0musername\u001b[0m \u001b[0;34m=\u001b[0m \u001b[0;34m\"MyUser123\"\u001b[0m\u001b[0;34m\u001b[0m\u001b[0;34m\u001b[0m\u001b[0m\n\u001b[0;32m----> 5\u001b[0;31m \u001b[0musername\u001b[0m\u001b[0;34m[\u001b[0m\u001b[0;36m0\u001b[0m\u001b[0;34m]\u001b[0m \u001b[0;34m=\u001b[0m \u001b[0;34m'm'\u001b[0m\u001b[0;34m\u001b[0m\u001b[0;34m\u001b[0m\u001b[0m\n\u001b[0m\u001b[1;32m      6\u001b[0m \u001b[0;34m\u001b[0m\u001b[0m\n\u001b[1;32m      7\u001b[0m \u001b[0;31m# Output - error\u001b[0m\u001b[0;34m\u001b[0m\u001b[0;34m\u001b[0m\u001b[0m\n",
            "\u001b[0;31mTypeError\u001b[0m: 'str' object does not support item assignment"
          ]
        }
      ]
    },
    {
      "cell_type": "code",
      "source": [
        "# b. quote: quote = \" practice makes perfect \"\n",
        "# 1 .Remove any leading or trailing whitespace.\n",
        "# 2. Convert the entire quote to uppercase.\n",
        "# 3. Replace the word \"PERFECT\" with \"PROGRESS\".\n",
        "\n",
        "quote = \" practice makes perfect \"\n",
        "formatted_quote = quote.strip()\n",
        "formatted_quote = formatted_quote.upper()\n",
        "formatted_quote = formatted_quote.replace(\"PERFECT\", \"PROGRESS\")\n",
        "print(formatted_quote)\n",
        "\n",
        "\n",
        "# formatted_quote = quote.strip()            # Step 1 - this removes spaces at the beginning and the end of the string\n",
        "# formatted_quote = formatted_quote.upper()  # Step 2: converts all letters to uppercase\n",
        "# formatted_quote = formatted_quote.replace(\"PERFECT\", \"PROGRESS\")  # Step 3: changes \"PERFECT\" to \"PROGRESS\"\n"
      ],
      "metadata": {
        "colab": {
          "base_uri": "https://localhost:8080/"
        },
        "id": "56oHGPEq52S_",
        "outputId": "589c4e88-f211-4a99-8420-da474d919542"
      },
      "execution_count": 36,
      "outputs": [
        {
          "output_type": "stream",
          "name": "stdout",
          "text": [
            "PRACTICE MAKES PROGRESS\n"
          ]
        }
      ]
    },
    {
      "cell_type": "code",
      "source": [
        "# c. What is the length of the original quote (including spaces) and the length of the formatted_quote? Show how you would find this using Python\n",
        "\n",
        "quote = \" practice makes perfect \"\n",
        "formatted_quote = \"PRACTICE MAKES PROGRESS\"\n",
        "\n",
        "#Lengths of strings:\n",
        "\n",
        "print(len(quote))\n",
        "print(len(formatted_quote))\n",
        "\n",
        "# The original is 24 characters which including spaces.\n",
        "# Formatted quote has only 23 characters due to removed the space as well as change of \"PRACTICE MAKES PROGRESS\""
      ],
      "metadata": {
        "colab": {
          "base_uri": "https://localhost:8080/"
        },
        "id": "5JXkZz5oV_JB",
        "outputId": "b63abc39-efa7-4b98-a422-83f6099086d9"
      },
      "execution_count": 39,
      "outputs": [
        {
          "output_type": "stream",
          "name": "stdout",
          "text": [
            "24\n",
            "23\n"
          ]
        }
      ]
    }
  ]
}